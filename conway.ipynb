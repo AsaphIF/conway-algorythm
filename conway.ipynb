{
 "cells": [
  {
   "cell_type": "code",
   "execution_count": 10,
   "id": "d1ee05b4",
   "metadata": {},
   "outputs": [
    {
     "name": "stdout",
     "output_type": "stream",
     "text": [
      "..........\n",
      "...##.....\n",
      "....#.....\n",
      "..........\n",
      "..........\n",
      "...##.....\n",
      "..##......\n",
      ".....#....\n",
      "....#.....\n",
      "..........\n",
      "\n"
     ]
    },
    {
     "ename": "NameError",
     "evalue": "name 'clear_output' is not defined",
     "output_type": "error",
     "traceback": [
      "\u001b[1;31m---------------------------------------------------------------------------\u001b[0m",
      "\u001b[1;31mNameError\u001b[0m                                 Traceback (most recent call last)",
      "Input \u001b[1;32mIn [10]\u001b[0m, in \u001b[0;36m<cell line: 63>\u001b[1;34m()\u001b[0m\n\u001b[0;32m     61\u001b[0m \u001b[38;5;28mprint\u001b[39m()\n\u001b[0;32m     62\u001b[0m time\u001b[38;5;241m.\u001b[39msleep(\u001b[38;5;241m2\u001b[39m)\n\u001b[1;32m---> 63\u001b[0m \u001b[43mclear_output\u001b[49m(wait\u001b[38;5;241m=\u001b[39m\u001b[38;5;28;01mTrue\u001b[39;00m)\n\u001b[0;32m     64\u001b[0m prox(grid,m,n)\n",
      "\u001b[1;31mNameError\u001b[0m: name 'clear_output' is not defined"
     ]
    }
   ],
   "source": [
    "from IPython.display import clear_out\n",
    "import time\n",
    "\n",
    "def prox(grid,m,n):\n",
    "    future = [[0 for i in range(n)] for j in range(m)]\n",
    "    \n",
    "    for l in range(m):\n",
    "        \n",
    "        for p in range(n):\n",
    "            \n",
    "            alive = 0\n",
    "            \n",
    "            for i in range(-1,2):\n",
    "                \n",
    "                for j in range(-1,2):\n",
    "                    \n",
    "                    if l+i >= 0 and  l+i < m and p+j >= 0 and p+j < n:\n",
    "                        \n",
    "                        alive += grid[l+i][p+j]\n",
    "                        \n",
    "            alive -= grid[l][p]\n",
    "            \n",
    "            if grid[l][p] == 1 and alive <2:\n",
    "                future[l][p] = 0\n",
    "                \n",
    "            if grid[l][p] == 1 and alive >3:\n",
    "                future[l][p] = 0\n",
    "                \n",
    "            if grid[l][p] == 0 and alive == 3:\n",
    "                future[l][p] = 1\n",
    "            else:\n",
    "                future[l][p] = grid[l][p]\n",
    "    for i in range(0,m):\n",
    "        for j in range(0,n):\n",
    "            if future[i][j] == 0:\n",
    "                print(\".\",end=\"\")\n",
    "            else:\n",
    "                print(\"#\",end=\"\")\n",
    "        print()\n",
    "    print()\n",
    "                \n",
    "m = 10\n",
    "n = 10\n",
    "grid = [ [ 0, 0, 0, 0, 0, 0, 0, 0, 0, 0 ],\n",
    "         [ 0, 0, 0, 1, 1, 0, 0, 0, 0, 0 ],\n",
    "         [ 0, 0, 0, 0, 1, 0, 0, 0, 0, 0 ],\n",
    "         [ 0, 0, 0, 0, 0, 0, 0, 0, 0, 0 ],\n",
    "         [ 0, 0, 0, 0, 0, 0, 0, 0, 0, 0 ],\n",
    "         [ 0, 0, 0, 1, 1, 0, 0, 0, 0, 0 ],\n",
    "         [ 0, 0, 1, 1, 0, 0, 0, 0, 0, 0 ],\n",
    "         [ 0, 0, 0, 0, 0, 1, 0, 0, 0, 0 ],\n",
    "         [ 0, 0, 0, 0, 1, 0, 0, 0, 0, 0 ],\n",
    "         [ 0, 0, 0, 0, 0, 0, 0, 0, 0, 0 ]]\n",
    "\n",
    "for i in range(0,m):\n",
    "    for j in range(0,n):\n",
    "        if grid[i][j] == 0:\n",
    "            print(\".\",end=\"\")\n",
    "        else:\n",
    "            print(\"#\",end=\"\")\n",
    "    print()\n",
    "print()\n",
    "time.sleep(2)\n",
    "clear_output(wait=True)\n",
    "prox(grid,m,n)\n",
    "        "
   ]
  },
  {
   "cell_type": "code",
   "execution_count": null,
   "id": "a0cfb807",
   "metadata": {},
   "outputs": [],
   "source": []
  }
 ],
 "metadata": {
  "kernelspec": {
   "display_name": "Python 3 (ipykernel)",
   "language": "python",
   "name": "python3"
  },
  "language_info": {
   "codemirror_mode": {
    "name": "ipython",
    "version": 3
   },
   "file_extension": ".py",
   "mimetype": "text/x-python",
   "name": "python",
   "nbconvert_exporter": "python",
   "pygments_lexer": "ipython3",
   "version": "3.9.12"
  }
 },
 "nbformat": 4,
 "nbformat_minor": 5
}
